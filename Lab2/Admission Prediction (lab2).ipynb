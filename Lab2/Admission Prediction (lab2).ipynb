{
 "cells": [
  {
   "cell_type": "code",
   "execution_count": 115,
   "id": "7b93cdad",
   "metadata": {},
   "outputs": [],
   "source": [
    "import csv"
   ]
  },
  {
   "cell_type": "code",
   "execution_count": 116,
   "id": "09146aff",
   "metadata": {},
   "outputs": [],
   "source": [
    "import pandas as pd"
   ]
  },
  {
   "cell_type": "code",
   "execution_count": 117,
   "id": "451d9e85",
   "metadata": {},
   "outputs": [],
   "source": [
    "import numpy as np"
   ]
  },
  {
   "cell_type": "code",
   "execution_count": 118,
   "id": "1ca28bd5",
   "metadata": {},
   "outputs": [],
   "source": [
    "import matplotlib.pyplot as plt\n",
    "%matplotlib inline"
   ]
  },
  {
   "cell_type": "code",
   "execution_count": 119,
   "id": "b5abbf2d",
   "metadata": {},
   "outputs": [],
   "source": [
    "df = pd.read_csv('Admission_Predict.csv')"
   ]
  },
  {
   "cell_type": "code",
   "execution_count": 120,
   "id": "f70ee178",
   "metadata": {},
   "outputs": [
    {
     "data": {
      "text/html": [
       "<div>\n",
       "<style scoped>\n",
       "    .dataframe tbody tr th:only-of-type {\n",
       "        vertical-align: middle;\n",
       "    }\n",
       "\n",
       "    .dataframe tbody tr th {\n",
       "        vertical-align: top;\n",
       "    }\n",
       "\n",
       "    .dataframe thead th {\n",
       "        text-align: right;\n",
       "    }\n",
       "</style>\n",
       "<table border=\"1\" class=\"dataframe\">\n",
       "  <thead>\n",
       "    <tr style=\"text-align: right;\">\n",
       "      <th></th>\n",
       "      <th>Serial No.</th>\n",
       "      <th>GRE Score</th>\n",
       "      <th>TOEFL Score</th>\n",
       "      <th>University Rating</th>\n",
       "      <th>SOP</th>\n",
       "      <th>LOR</th>\n",
       "      <th>CGPA</th>\n",
       "      <th>Research</th>\n",
       "      <th>Chance of Admit</th>\n",
       "    </tr>\n",
       "  </thead>\n",
       "  <tbody>\n",
       "    <tr>\n",
       "      <th>0</th>\n",
       "      <td>1</td>\n",
       "      <td>337</td>\n",
       "      <td>118</td>\n",
       "      <td>4</td>\n",
       "      <td>4.5</td>\n",
       "      <td>4.5</td>\n",
       "      <td>9.65</td>\n",
       "      <td>1</td>\n",
       "      <td>0.92</td>\n",
       "    </tr>\n",
       "    <tr>\n",
       "      <th>1</th>\n",
       "      <td>2</td>\n",
       "      <td>324</td>\n",
       "      <td>107</td>\n",
       "      <td>4</td>\n",
       "      <td>4.0</td>\n",
       "      <td>4.5</td>\n",
       "      <td>8.87</td>\n",
       "      <td>1</td>\n",
       "      <td>0.76</td>\n",
       "    </tr>\n",
       "    <tr>\n",
       "      <th>2</th>\n",
       "      <td>3</td>\n",
       "      <td>316</td>\n",
       "      <td>104</td>\n",
       "      <td>3</td>\n",
       "      <td>3.0</td>\n",
       "      <td>3.5</td>\n",
       "      <td>8.00</td>\n",
       "      <td>1</td>\n",
       "      <td>0.72</td>\n",
       "    </tr>\n",
       "    <tr>\n",
       "      <th>3</th>\n",
       "      <td>4</td>\n",
       "      <td>322</td>\n",
       "      <td>110</td>\n",
       "      <td>3</td>\n",
       "      <td>3.5</td>\n",
       "      <td>2.5</td>\n",
       "      <td>8.67</td>\n",
       "      <td>1</td>\n",
       "      <td>0.80</td>\n",
       "    </tr>\n",
       "    <tr>\n",
       "      <th>4</th>\n",
       "      <td>5</td>\n",
       "      <td>314</td>\n",
       "      <td>103</td>\n",
       "      <td>2</td>\n",
       "      <td>2.0</td>\n",
       "      <td>3.0</td>\n",
       "      <td>8.21</td>\n",
       "      <td>0</td>\n",
       "      <td>0.65</td>\n",
       "    </tr>\n",
       "    <tr>\n",
       "      <th>...</th>\n",
       "      <td>...</td>\n",
       "      <td>...</td>\n",
       "      <td>...</td>\n",
       "      <td>...</td>\n",
       "      <td>...</td>\n",
       "      <td>...</td>\n",
       "      <td>...</td>\n",
       "      <td>...</td>\n",
       "      <td>...</td>\n",
       "    </tr>\n",
       "    <tr>\n",
       "      <th>395</th>\n",
       "      <td>396</td>\n",
       "      <td>324</td>\n",
       "      <td>110</td>\n",
       "      <td>3</td>\n",
       "      <td>3.5</td>\n",
       "      <td>3.5</td>\n",
       "      <td>9.04</td>\n",
       "      <td>1</td>\n",
       "      <td>0.82</td>\n",
       "    </tr>\n",
       "    <tr>\n",
       "      <th>396</th>\n",
       "      <td>397</td>\n",
       "      <td>325</td>\n",
       "      <td>107</td>\n",
       "      <td>3</td>\n",
       "      <td>3.0</td>\n",
       "      <td>3.5</td>\n",
       "      <td>9.11</td>\n",
       "      <td>1</td>\n",
       "      <td>0.84</td>\n",
       "    </tr>\n",
       "    <tr>\n",
       "      <th>397</th>\n",
       "      <td>398</td>\n",
       "      <td>330</td>\n",
       "      <td>116</td>\n",
       "      <td>4</td>\n",
       "      <td>5.0</td>\n",
       "      <td>4.5</td>\n",
       "      <td>9.45</td>\n",
       "      <td>1</td>\n",
       "      <td>0.91</td>\n",
       "    </tr>\n",
       "    <tr>\n",
       "      <th>398</th>\n",
       "      <td>399</td>\n",
       "      <td>312</td>\n",
       "      <td>103</td>\n",
       "      <td>3</td>\n",
       "      <td>3.5</td>\n",
       "      <td>4.0</td>\n",
       "      <td>8.78</td>\n",
       "      <td>0</td>\n",
       "      <td>0.67</td>\n",
       "    </tr>\n",
       "    <tr>\n",
       "      <th>399</th>\n",
       "      <td>400</td>\n",
       "      <td>333</td>\n",
       "      <td>117</td>\n",
       "      <td>4</td>\n",
       "      <td>5.0</td>\n",
       "      <td>4.0</td>\n",
       "      <td>9.66</td>\n",
       "      <td>1</td>\n",
       "      <td>0.95</td>\n",
       "    </tr>\n",
       "  </tbody>\n",
       "</table>\n",
       "<p>400 rows × 9 columns</p>\n",
       "</div>"
      ],
      "text/plain": [
       "     Serial No.  GRE Score  TOEFL Score  University Rating  SOP  LOR   CGPA  \\\n",
       "0             1        337          118                  4  4.5   4.5  9.65   \n",
       "1             2        324          107                  4  4.0   4.5  8.87   \n",
       "2             3        316          104                  3  3.0   3.5  8.00   \n",
       "3             4        322          110                  3  3.5   2.5  8.67   \n",
       "4             5        314          103                  2  2.0   3.0  8.21   \n",
       "..          ...        ...          ...                ...  ...   ...   ...   \n",
       "395         396        324          110                  3  3.5   3.5  9.04   \n",
       "396         397        325          107                  3  3.0   3.5  9.11   \n",
       "397         398        330          116                  4  5.0   4.5  9.45   \n",
       "398         399        312          103                  3  3.5   4.0  8.78   \n",
       "399         400        333          117                  4  5.0   4.0  9.66   \n",
       "\n",
       "     Research  Chance of Admit   \n",
       "0           1              0.92  \n",
       "1           1              0.76  \n",
       "2           1              0.72  \n",
       "3           1              0.80  \n",
       "4           0              0.65  \n",
       "..        ...               ...  \n",
       "395         1              0.82  \n",
       "396         1              0.84  \n",
       "397         1              0.91  \n",
       "398         0              0.67  \n",
       "399         1              0.95  \n",
       "\n",
       "[400 rows x 9 columns]"
      ]
     },
     "execution_count": 120,
     "metadata": {},
     "output_type": "execute_result"
    }
   ],
   "source": [
    "df"
   ]
  },
  {
   "cell_type": "code",
   "execution_count": 121,
   "id": "0eadd3f9",
   "metadata": {},
   "outputs": [
    {
     "data": {
      "text/plain": [
       "<Axes: >"
      ]
     },
     "execution_count": 121,
     "metadata": {},
     "output_type": "execute_result"
    },
    {
     "data": {
      "image/png": "[encoded data removed]",
      "text/plain": [
       "<Figure size 640x480 with 1 Axes>"
      ]
     },
     "metadata": {},
     "output_type": "display_data"
    }
   ],
   "source": [
    "df['Chance of Admit '].hist()"
   ]
  },
  {
   "cell_type": "raw",
   "id": "d1f33b2d",
   "metadata": {},
   "source": [
    "We have to convert `Chance of Admit` to a binary decision `Admit`. For this we are using the median as the threshold. This will give nearly equal number of Admits and Rejects "
   ]
  },
  {
   "cell_type": "code",
   "execution_count": 122,
   "id": "beb789ed",
   "metadata": {},
   "outputs": [
    {
     "data": {
      "text/plain": [
       "0.73"
      ]
     },
     "execution_count": 122,
     "metadata": {},
     "output_type": "execute_result"
    }
   ],
   "source": [
    "df['Chance of Admit '].median()"
   ]
  },
  {
   "cell_type": "code",
   "execution_count": 123,
   "id": "8c260235",
   "metadata": {},
   "outputs": [],
   "source": [
    "df['Admit'] = df['Chance of Admit ']>0.73"
   ]
  },
  {
   "cell_type": "code",
   "execution_count": 124,
   "id": "a20bc995",
   "metadata": {},
   "outputs": [
    {
     "data": {
      "text/html": [
       "<div>\n",
       "<style scoped>\n",
       "    .dataframe tbody tr th:only-of-type {\n",
       "        vertical-align: middle;\n",
       "    }\n",
       "\n",
       "    .dataframe tbody tr th {\n",
       "        vertical-align: top;\n",
       "    }\n",
       "\n",
       "    .dataframe thead th {\n",
       "        text-align: right;\n",
       "    }\n",
       "</style>\n",
       "<table border=\"1\" class=\"dataframe\">\n",
       "  <thead>\n",
       "    <tr style=\"text-align: right;\">\n",
       "      <th></th>\n",
       "      <th>Serial No.</th>\n",
       "      <th>GRE Score</th>\n",
       "      <th>TOEFL Score</th>\n",
       "      <th>University Rating</th>\n",
       "      <th>SOP</th>\n",
       "      <th>LOR</th>\n",
       "      <th>CGPA</th>\n",
       "      <th>Research</th>\n",
       "      <th>Chance of Admit</th>\n",
       "      <th>Admit</th>\n",
       "    </tr>\n",
       "  </thead>\n",
       "  <tbody>\n",
       "    <tr>\n",
       "      <th>0</th>\n",
       "      <td>1</td>\n",
       "      <td>337</td>\n",
       "      <td>118</td>\n",
       "      <td>4</td>\n",
       "      <td>4.5</td>\n",
       "      <td>4.5</td>\n",
       "      <td>9.65</td>\n",
       "      <td>1</td>\n",
       "      <td>0.92</td>\n",
       "      <td>True</td>\n",
       "    </tr>\n",
       "    <tr>\n",
       "      <th>1</th>\n",
       "      <td>2</td>\n",
       "      <td>324</td>\n",
       "      <td>107</td>\n",
       "      <td>4</td>\n",
       "      <td>4.0</td>\n",
       "      <td>4.5</td>\n",
       "      <td>8.87</td>\n",
       "      <td>1</td>\n",
       "      <td>0.76</td>\n",
       "      <td>True</td>\n",
       "    </tr>\n",
       "    <tr>\n",
       "      <th>2</th>\n",
       "      <td>3</td>\n",
       "      <td>316</td>\n",
       "      <td>104</td>\n",
       "      <td>3</td>\n",
       "      <td>3.0</td>\n",
       "      <td>3.5</td>\n",
       "      <td>8.00</td>\n",
       "      <td>1</td>\n",
       "      <td>0.72</td>\n",
       "      <td>False</td>\n",
       "    </tr>\n",
       "    <tr>\n",
       "      <th>3</th>\n",
       "      <td>4</td>\n",
       "      <td>322</td>\n",
       "      <td>110</td>\n",
       "      <td>3</td>\n",
       "      <td>3.5</td>\n",
       "      <td>2.5</td>\n",
       "      <td>8.67</td>\n",
       "      <td>1</td>\n",
       "      <td>0.80</td>\n",
       "      <td>True</td>\n",
       "    </tr>\n",
       "    <tr>\n",
       "      <th>4</th>\n",
       "      <td>5</td>\n",
       "      <td>314</td>\n",
       "      <td>103</td>\n",
       "      <td>2</td>\n",
       "      <td>2.0</td>\n",
       "      <td>3.0</td>\n",
       "      <td>8.21</td>\n",
       "      <td>0</td>\n",
       "      <td>0.65</td>\n",
       "      <td>False</td>\n",
       "    </tr>\n",
       "    <tr>\n",
       "      <th>...</th>\n",
       "      <td>...</td>\n",
       "      <td>...</td>\n",
       "      <td>...</td>\n",
       "      <td>...</td>\n",
       "      <td>...</td>\n",
       "      <td>...</td>\n",
       "      <td>...</td>\n",
       "      <td>...</td>\n",
       "      <td>...</td>\n",
       "      <td>...</td>\n",
       "    </tr>\n",
       "    <tr>\n",
       "      <th>395</th>\n",
       "      <td>396</td>\n",
       "      <td>324</td>\n",
       "      <td>110</td>\n",
       "      <td>3</td>\n",
       "      <td>3.5</td>\n",
       "      <td>3.5</td>\n",
       "      <td>9.04</td>\n",
       "      <td>1</td>\n",
       "      <td>0.82</td>\n",
       "      <td>True</td>\n",
       "    </tr>\n",
       "    <tr>\n",
       "      <th>396</th>\n",
       "      <td>397</td>\n",
       "      <td>325</td>\n",
       "      <td>107</td>\n",
       "      <td>3</td>\n",
       "      <td>3.0</td>\n",
       "      <td>3.5</td>\n",
       "      <td>9.11</td>\n",
       "      <td>1</td>\n",
       "      <td>0.84</td>\n",
       "      <td>True</td>\n",
       "    </tr>\n",
       "    <tr>\n",
       "      <th>397</th>\n",
       "      <td>398</td>\n",
       "      <td>330</td>\n",
       "      <td>116</td>\n",
       "      <td>4</td>\n",
       "      <td>5.0</td>\n",
       "      <td>4.5</td>\n",
       "      <td>9.45</td>\n",
       "      <td>1</td>\n",
       "      <td>0.91</td>\n",
       "      <td>True</td>\n",
       "    </tr>\n",
       "    <tr>\n",
       "      <th>398</th>\n",
       "      <td>399</td>\n",
       "      <td>312</td>\n",
       "      <td>103</td>\n",
       "      <td>3</td>\n",
       "      <td>3.5</td>\n",
       "      <td>4.0</td>\n",
       "      <td>8.78</td>\n",
       "      <td>0</td>\n",
       "      <td>0.67</td>\n",
       "      <td>False</td>\n",
       "    </tr>\n",
       "    <tr>\n",
       "      <th>399</th>\n",
       "      <td>400</td>\n",
       "      <td>333</td>\n",
       "      <td>117</td>\n",
       "      <td>4</td>\n",
       "      <td>5.0</td>\n",
       "      <td>4.0</td>\n",
       "      <td>9.66</td>\n",
       "      <td>1</td>\n",
       "      <td>0.95</td>\n",
       "      <td>True</td>\n",
       "    </tr>\n",
       "  </tbody>\n",
       "</table>\n",
       "<p>400 rows × 10 columns</p>\n",
       "</div>"
      ],
      "text/plain": [
       "     Serial No.  GRE Score  TOEFL Score  University Rating  SOP  LOR   CGPA  \\\n",
       "0             1        337          118                  4  4.5   4.5  9.65   \n",
       "1             2        324          107                  4  4.0   4.5  8.87   \n",
       "2             3        316          104                  3  3.0   3.5  8.00   \n",
       "3             4        322          110                  3  3.5   2.5  8.67   \n",
       "4             5        314          103                  2  2.0   3.0  8.21   \n",
       "..          ...        ...          ...                ...  ...   ...   ...   \n",
       "395         396        324          110                  3  3.5   3.5  9.04   \n",
       "396         397        325          107                  3  3.0   3.5  9.11   \n",
       "397         398        330          116                  4  5.0   4.5  9.45   \n",
       "398         399        312          103                  3  3.5   4.0  8.78   \n",
       "399         400        333          117                  4  5.0   4.0  9.66   \n",
       "\n",
       "     Research  Chance of Admit   Admit  \n",
       "0           1              0.92   True  \n",
       "1           1              0.76   True  \n",
       "2           1              0.72  False  \n",
       "3           1              0.80   True  \n",
       "4           0              0.65  False  \n",
       "..        ...               ...    ...  \n",
       "395         1              0.82   True  \n",
       "396         1              0.84   True  \n",
       "397         1              0.91   True  \n",
       "398         0              0.67  False  \n",
       "399         1              0.95   True  \n",
       "\n",
       "[400 rows x 10 columns]"
      ]
     },
     "execution_count": 124,
     "metadata": {},
     "output_type": "execute_result"
    }
   ],
   "source": [
    "df"
   ]
  },
  {
   "cell_type": "code",
   "execution_count": 125,
   "id": "0dc03cb3",
   "metadata": {},
   "outputs": [
    {
     "data": {
      "text/plain": [
       "<matplotlib.collections.PathCollection at 0x1a8f0b57fd0>"
      ]
     },
     "execution_count": 125,
     "metadata": {},
     "output_type": "execute_result"
    },
    {
     "data": {
      "image/png": "[encoded data removed]",
      "text/plain": [
       "<Figure size 640x480 with 1 Axes>"
      ]
     },
     "metadata": {},
     "output_type": "display_data"
    }
   ],
   "source": [
    "plt.scatter(df['GRE Score'],df['Chance of Admit '])\n",
    "plt.scatter(df['GRE Score'],df['Admit'])"
   ]
  },
  {
   "cell_type": "code",
   "execution_count": 126,
   "id": "5e6dccf6",
   "metadata": {},
   "outputs": [],
   "source": [
    "from sklearn.linear_model import LogisticRegression\n",
    "from sklearn.linear_model import LinearRegression"
   ]
  },
  {
   "cell_type": "raw",
   "id": "9ec0d3e4",
   "metadata": {},
   "source": [
    "In the simple example below I have used only one column (GRE Score) as a feature, and Chance of Admit as the target output. "
   ]
  },
  {
   "cell_type": "code",
   "execution_count": 127,
   "id": "bef06416",
   "metadata": {},
   "outputs": [],
   "source": [
    "X = df['GRE Score'].to_numpy()[:,np.newaxis]\n",
    "Y = df['Chance of Admit ']\n",
    "Y = Y.values.reshape(-1, 1)"
   ]
  },
  {
   "cell_type": "code",
   "execution_count": 128,
   "id": "3ac1b95f",
   "metadata": {},
   "outputs": [],
   "source": [
    "lr = LinearRegression()\n",
    "LR = LogisticRegression()"
   ]
  },
  {
   "cell_type": "code",
   "execution_count": 129,
   "id": "477a7e3c",
   "metadata": {},
   "outputs": [
    {
     "data": {
      "text/html": [
       "<style>#sk-container-id-7 {color: black;background-color: white;}#sk-container-id-7 pre{padding: 0;}#sk-container-id-7 div.sk-toggleable {background-color: white;}#sk-container-id-7 label.sk-toggleable__label {cursor: pointer;display: block;width: 100%;margin-bottom: 0;padding: 0.3em;box-sizing: border-box;text-align: center;}#sk-container-id-7 label.sk-toggleable__label-arrow:before {content: \"▸\";float: left;margin-right: 0.25em;color: #696969;}#sk-container-id-7 label.sk-toggleable__label-arrow:hover:before {color: black;}#sk-container-id-7 div.sk-estimator:hover label.sk-toggleable__label-arrow:before {color: black;}#sk-container-id-7 div.sk-toggleable__content {max-height: 0;max-width: 0;overflow: hidden;text-align: left;background-color: #f0f8ff;}#sk-container-id-7 div.sk-toggleable__content pre {margin: 0.2em;color: black;border-radius: 0.25em;background-color: #f0f8ff;}#sk-container-id-7 input.sk-toggleable__control:checked~div.sk-toggleable__content {max-height: 200px;max-width: 100%;overflow: auto;}#sk-container-id-7 input.sk-toggleable__control:checked~label.sk-toggleable__label-arrow:before {content: \"▾\";}#sk-container-id-7 div.sk-estimator input.sk-toggleable__control:checked~label.sk-toggleable__label {background-color: #d4ebff;}#sk-container-id-7 div.sk-label input.sk-toggleable__control:checked~label.sk-toggleable__label {background-color: #d4ebff;}#sk-container-id-7 input.sk-hidden--visually {border: 0;clip: rect(1px 1px 1px 1px);clip: rect(1px, 1px, 1px, 1px);height: 1px;margin: -1px;overflow: hidden;padding: 0;position: absolute;width: 1px;}#sk-container-id-7 div.sk-estimator {font-family: monospace;background-color: #f0f8ff;border: 1px dotted black;border-radius: 0.25em;box-sizing: border-box;margin-bottom: 0.5em;}#sk-container-id-7 div.sk-estimator:hover {background-color: #d4ebff;}#sk-container-id-7 div.sk-parallel-item::after {content: \"\";width: 100%;border-bottom: 1px solid gray;flex-grow: 1;}#sk-container-id-7 div.sk-label:hover label.sk-toggleable__label {background-color: #d4ebff;}#sk-container-id-7 div.sk-serial::before {content: \"\";position: absolute;border-left: 1px solid gray;box-sizing: border-box;top: 0;bottom: 0;left: 50%;z-index: 0;}#sk-container-id-7 div.sk-serial {display: flex;flex-direction: column;align-items: center;background-color: white;padding-right: 0.2em;padding-left: 0.2em;position: relative;}#sk-container-id-7 div.sk-item {position: relative;z-index: 1;}#sk-container-id-7 div.sk-parallel {display: flex;align-items: stretch;justify-content: center;background-color: white;position: relative;}#sk-container-id-7 div.sk-item::before, #sk-container-id-7 div.sk-parallel-item::before {content: \"\";position: absolute;border-left: 1px solid gray;box-sizing: border-box;top: 0;bottom: 0;left: 50%;z-index: -1;}#sk-container-id-7 div.sk-parallel-item {display: flex;flex-direction: column;z-index: 1;position: relative;background-color: white;}#sk-container-id-7 div.sk-parallel-item:first-child::after {align-self: flex-end;width: 50%;}#sk-container-id-7 div.sk-parallel-item:last-child::after {align-self: flex-start;width: 50%;}#sk-container-id-7 div.sk-parallel-item:only-child::after {width: 0;}#sk-container-id-7 div.sk-dashed-wrapped {border: 1px dashed gray;margin: 0 0.4em 0.5em 0.4em;box-sizing: border-box;padding-bottom: 0.4em;background-color: white;}#sk-container-id-7 div.sk-label label {font-family: monospace;font-weight: bold;display: inline-block;line-height: 1.2em;}#sk-container-id-7 div.sk-label-container {text-align: center;}#sk-container-id-7 div.sk-container {/* jupyter's `normalize.less` sets `[hidden] { display: none; }` but bootstrap.min.css set `[hidden] { display: none !important; }` so we also need the `!important` here to be able to override the default hidden behavior on the sphinx rendered scikit-learn.org. See: https://github.com/scikit-learn/scikit-learn/issues/21755 */display: inline-block !important;position: relative;}#sk-container-id-7 div.sk-text-repr-fallback {display: none;}</style><div id=\"sk-container-id-7\" class=\"sk-top-container\"><div class=\"sk-text-repr-fallback\"><pre>LinearRegression()</pre><b>In a Jupyter environment, please rerun this cell to show the HTML representation or trust the notebook. <br />On GitHub, the HTML representation is unable to render, please try loading this page with nbviewer.org.</b></div><div class=\"sk-container\" hidden><div class=\"sk-item\"><div class=\"sk-estimator sk-toggleable\"><input class=\"sk-toggleable__control sk-hidden--visually\" id=\"sk-estimator-id-7\" type=\"checkbox\" checked><label for=\"sk-estimator-id-7\" class=\"sk-toggleable__label sk-toggleable__label-arrow\">LinearRegression</label><div class=\"sk-toggleable__content\"><pre>LinearRegression()</pre></div></div></div></div></div>"
      ],
      "text/plain": [
       "LinearRegression()"
      ]
     },
     "execution_count": 129,
     "metadata": {},
     "output_type": "execute_result"
    }
   ],
   "source": [
    "lr.fit(X,Y)"
   ]
  },
  {
   "cell_type": "code",
   "execution_count": 130,
   "id": "88bad0e5",
   "metadata": {},
   "outputs": [
    {
     "data": {
      "text/plain": [
       "[<matplotlib.lines.Line2D at 0x1a8f243d5d0>]"
      ]
     },
     "execution_count": 130,
     "metadata": {},
     "output_type": "execute_result"
    },
    {
     "data": {
      "image/png": "[encoded data removed]",
      "text/plain": [
       "<Figure size 640x480 with 1 Axes>"
      ]
     },
     "metadata": {},
     "output_type": "display_data"
    }
   ],
   "source": [
    "# This plot shows the nice linear regression fit between GRE score and Chance of admit\n",
    "\n",
    "plt.plot(X,Y,'.')\n",
    "plt.plot(X,lr.predict(X),'.')"
   ]
  },
  {
   "cell_type": "code",
   "execution_count": 131,
   "id": "4cb4a752",
   "metadata": {},
   "outputs": [],
   "source": [
    "#Instead of using linear regression now do logistic regression on target output classes of Admit\n",
    "Y = df['Admit']\n",
    "Y = Y.values"
   ]
  },
  {
   "cell_type": "code",
   "execution_count": 132,
   "id": "7cb9a31b",
   "metadata": {},
   "outputs": [
    {
     "data": {
      "text/plain": [
       "(400,)"
      ]
     },
     "execution_count": 132,
     "metadata": {},
     "output_type": "execute_result"
    }
   ],
   "source": [
    "Y.shape"
   ]
  },
  {
   "cell_type": "code",
   "execution_count": 133,
   "id": "b9854f91",
   "metadata": {},
   "outputs": [
    {
     "data": {
      "text/html": [
       "<style>#sk-container-id-8 {color: black;background-color: white;}#sk-container-id-8 pre{padding: 0;}#sk-container-id-8 div.sk-toggleable {background-color: white;}#sk-container-id-8 label.sk-toggleable__label {cursor: pointer;display: block;width: 100%;margin-bottom: 0;padding: 0.3em;box-sizing: border-box;text-align: center;}#sk-container-id-8 label.sk-toggleable__label-arrow:before {content: \"▸\";float: left;margin-right: 0.25em;color: #696969;}#sk-container-id-8 label.sk-toggleable__label-arrow:hover:before {color: black;}#sk-container-id-8 div.sk-estimator:hover label.sk-toggleable__label-arrow:before {color: black;}#sk-container-id-8 div.sk-toggleable__content {max-height: 0;max-width: 0;overflow: hidden;text-align: left;background-color: #f0f8ff;}#sk-container-id-8 div.sk-toggleable__content pre {margin: 0.2em;color: black;border-radius: 0.25em;background-color: #f0f8ff;}#sk-container-id-8 input.sk-toggleable__control:checked~div.sk-toggleable__content {max-height: 200px;max-width: 100%;overflow: auto;}#sk-container-id-8 input.sk-toggleable__control:checked~label.sk-toggleable__label-arrow:before {content: \"▾\";}#sk-container-id-8 div.sk-estimator input.sk-toggleable__control:checked~label.sk-toggleable__label {background-color: #d4ebff;}#sk-container-id-8 div.sk-label input.sk-toggleable__control:checked~label.sk-toggleable__label {background-color: #d4ebff;}#sk-container-id-8 input.sk-hidden--visually {border: 0;clip: rect(1px 1px 1px 1px);clip: rect(1px, 1px, 1px, 1px);height: 1px;margin: -1px;overflow: hidden;padding: 0;position: absolute;width: 1px;}#sk-container-id-8 div.sk-estimator {font-family: monospace;background-color: #f0f8ff;border: 1px dotted black;border-radius: 0.25em;box-sizing: border-box;margin-bottom: 0.5em;}#sk-container-id-8 div.sk-estimator:hover {background-color: #d4ebff;}#sk-container-id-8 div.sk-parallel-item::after {content: \"\";width: 100%;border-bottom: 1px solid gray;flex-grow: 1;}#sk-container-id-8 div.sk-label:hover label.sk-toggleable__label {background-color: #d4ebff;}#sk-container-id-8 div.sk-serial::before {content: \"\";position: absolute;border-left: 1px solid gray;box-sizing: border-box;top: 0;bottom: 0;left: 50%;z-index: 0;}#sk-container-id-8 div.sk-serial {display: flex;flex-direction: column;align-items: center;background-color: white;padding-right: 0.2em;padding-left: 0.2em;position: relative;}#sk-container-id-8 div.sk-item {position: relative;z-index: 1;}#sk-container-id-8 div.sk-parallel {display: flex;align-items: stretch;justify-content: center;background-color: white;position: relative;}#sk-container-id-8 div.sk-item::before, #sk-container-id-8 div.sk-parallel-item::before {content: \"\";position: absolute;border-left: 1px solid gray;box-sizing: border-box;top: 0;bottom: 0;left: 50%;z-index: -1;}#sk-container-id-8 div.sk-parallel-item {display: flex;flex-direction: column;z-index: 1;position: relative;background-color: white;}#sk-container-id-8 div.sk-parallel-item:first-child::after {align-self: flex-end;width: 50%;}#sk-container-id-8 div.sk-parallel-item:last-child::after {align-self: flex-start;width: 50%;}#sk-container-id-8 div.sk-parallel-item:only-child::after {width: 0;}#sk-container-id-8 div.sk-dashed-wrapped {border: 1px dashed gray;margin: 0 0.4em 0.5em 0.4em;box-sizing: border-box;padding-bottom: 0.4em;background-color: white;}#sk-container-id-8 div.sk-label label {font-family: monospace;font-weight: bold;display: inline-block;line-height: 1.2em;}#sk-container-id-8 div.sk-label-container {text-align: center;}#sk-container-id-8 div.sk-container {/* jupyter's `normalize.less` sets `[hidden] { display: none; }` but bootstrap.min.css set `[hidden] { display: none !important; }` so we also need the `!important` here to be able to override the default hidden behavior on the sphinx rendered scikit-learn.org. See: https://github.com/scikit-learn/scikit-learn/issues/21755 */display: inline-block !important;position: relative;}#sk-container-id-8 div.sk-text-repr-fallback {display: none;}</style><div id=\"sk-container-id-8\" class=\"sk-top-container\"><div class=\"sk-text-repr-fallback\"><pre>LogisticRegression()</pre><b>In a Jupyter environment, please rerun this cell to show the HTML representation or trust the notebook. <br />On GitHub, the HTML representation is unable to render, please try loading this page with nbviewer.org.</b></div><div class=\"sk-container\" hidden><div class=\"sk-item\"><div class=\"sk-estimator sk-toggleable\"><input class=\"sk-toggleable__control sk-hidden--visually\" id=\"sk-estimator-id-8\" type=\"checkbox\" checked><label for=\"sk-estimator-id-8\" class=\"sk-toggleable__label sk-toggleable__label-arrow\">LogisticRegression</label><div class=\"sk-toggleable__content\"><pre>LogisticRegression()</pre></div></div></div></div></div>"
      ],
      "text/plain": [
       "LogisticRegression()"
      ]
     },
     "execution_count": 133,
     "metadata": {},
     "output_type": "execute_result"
    }
   ],
   "source": [
    "LR.fit(X,Y)"
   ]
  },
  {
   "cell_type": "code",
   "execution_count": 134,
   "id": "7d949fa9",
   "metadata": {},
   "outputs": [
    {
     "data": {
      "text/plain": [
       "[<matplotlib.lines.Line2D at 0x1a8f232e550>]"
      ]
     },
     "execution_count": 134,
     "metadata": {},
     "output_type": "execute_result"
    },
    {
     "data": {
      "image/png": "[encoded data removed]",
      "text/plain": [
       "<Figure size 640x480 with 1 Axes>"
      ]
     },
     "metadata": {},
     "output_type": "display_data"
    }
   ],
   "source": [
    "# this is the Logistic Regression prediction (along with ground truth)\n",
    "plt.plot(X,Y,'.')\n",
    "plt.plot(X,LR.predict(X),'.')"
   ]
  },
  {
   "cell_type": "code",
   "execution_count": 135,
   "id": "1022b1be",
   "metadata": {},
   "outputs": [
    {
     "data": {
      "text/plain": [
       "Index(['Serial No.', 'GRE Score', 'TOEFL Score', 'University Rating', 'SOP',\n",
       "       'LOR ', 'CGPA', 'Research', 'Chance of Admit ', 'Admit'],\n",
       "      dtype='object')"
      ]
     },
     "execution_count": 135,
     "metadata": {},
     "output_type": "execute_result"
    }
   ],
   "source": [
    "df.keys()"
   ]
  },
  {
   "cell_type": "markdown",
   "id": "21b7a6ed",
   "metadata": {},
   "source": [
    "### Q1\n",
    "``` A. Use 4 features from above to set up your data matrix X. These 4 features should in your opinion best predict Admit decision (4 pts)\n",
    "B. Split X, Y into train, val, test (2 pts) \n",
    "C. Scale and Augment X appropriately (4 pts)```"
   ]
  },
  {
   "cell_type": "code",
   "execution_count": 136,
   "id": "ab912226",
   "metadata": {},
   "outputs": [
    {
     "name": "stdout",
     "output_type": "stream",
     "text": [
      "Training set size: (240, 1) (240,)\n",
      "Validation set size: (80, 1) (80,)\n",
      "Test set size: (80, 1) (80,)\n"
     ]
    }
   ],
   "source": [
    "from sklearn.model_selection import train_test_split\n",
    "\n",
    "# select the four features of interest\n",
    "X = df[['CGPA']].values\n",
    "Y = df['Admit'].values\n",
    "\n",
    "# split the data into train, validation, and test sets\n",
    "X_train, X_test, Y_train, Y_test = train_test_split(X, Y, test_size=0.2)\n",
    "X_train, X_val, Y_train, Y_val = train_test_split(X_train, Y_train, test_size=0.25)\n",
    "\n",
    "print(\"Training set size:\", X_train.shape, Y_train.shape)\n",
    "print(\"Validation set size:\", X_val.shape, Y_val.shape)\n",
    "print(\"Test set size:\", X_test.shape, Y_test.shape)\n"
   ]
  },
  {
   "cell_type": "code",
   "execution_count": 137,
   "id": "a259379f",
   "metadata": {},
   "outputs": [
    {
     "name": "stdout",
     "output_type": "stream",
     "text": [
      "Training set size: (240, 2) (240,)\n",
      "Validation set size: (80, 2) (80,)\n",
      "Test set size: (80, 2) (80,)\n"
     ]
    }
   ],
   "source": [
    "from sklearn.preprocessing import StandardScaler\n",
    "\n",
    "# create a scaler object and fit it to the training data\n",
    "scaler = StandardScaler()\n",
    "scaler.fit(X_train)\n",
    "\n",
    "# scale the training, validation, and test sets\n",
    "X_train_scaled = scaler.transform(X_train)\n",
    "X_val_scaled = scaler.transform(X_val)\n",
    "X_test_scaled = scaler.transform(X_test)\n",
    "\n",
    "# add a column of 1's to X\n",
    "X_train_augmented = np.hstack((X_train_scaled, np.ones((X_train_scaled.shape[0], 1))))\n",
    "X_val_augmented = np.hstack((X_val_scaled, np.ones((X_val_scaled.shape[0], 1))))\n",
    "X_test_augmented = np.hstack((X_test_scaled, np.ones((X_test_scaled.shape[0], 1))))\n",
    "\n",
    "\n",
    "print(\"Training set size:\", X_train_augmented.shape, Y_train.shape)\n",
    "print(\"Validation set size:\", X_val_augmented.shape, Y_val.shape)\n",
    "print(\"Test set size:\", X_test_augmented.shape, Y_test.shape)"
   ]
  },
  {
   "cell_type": "code",
   "execution_count": 138,
   "id": "170a27a6",
   "metadata": {},
   "outputs": [
    {
     "name": "stdout",
     "output_type": "stream",
     "text": [
      "[[-0.94693679  1.        ]\n",
      " [-0.20772441  1.        ]\n",
      " [ 0.99564458  1.        ]\n",
      " [ 0.34238713  1.        ]\n",
      " [ 1.47699218  1.        ]\n",
      " [-0.12176948  1.        ]\n",
      " [ 0.70339783  1.        ]\n",
      " [ 0.65182487  1.        ]\n",
      " [ 0.42834206  1.        ]\n",
      " [-0.22491539  1.        ]\n",
      " [ 0.35957812  1.        ]\n",
      " [ 2.11305865  1.        ]\n",
      " [-0.58592609  1.        ]\n",
      " [-0.63749905  1.        ]\n",
      " [-0.20772441  1.        ]\n",
      " [-1.01570073  1.        ]\n",
      " [-1.22199256  1.        ]\n",
      " [-1.60019424  1.        ]\n",
      " [-0.74064496  1.        ]\n",
      " [ 1.18474542  1.        ]\n",
      " [ 0.7377798   1.        ]\n",
      " [-2.15030578  1.        ]\n",
      " [ 0.70339783  1.        ]\n",
      " [-2.21906972  1.        ]\n",
      " [-1.25637453  1.        ]\n",
      " [ 0.89249867  1.        ]\n",
      " [-0.32806131  1.        ]\n",
      " [ 0.20485925  1.        ]\n",
      " [ 0.44553304  1.        ]\n",
      " [-0.24210638  1.        ]\n",
      " [ 0.87530768  1.        ]\n",
      " [-0.25929737  1.        ]\n",
      " [ 0.82373473  1.        ]\n",
      " [ 1.47699218  1.        ]\n",
      " [-1.61738523  1.        ]\n",
      " [ 0.41115107  1.        ]\n",
      " [-0.27648835  1.        ]\n",
      " [-0.08738751  1.        ]\n",
      " [ 1.28789134  1.        ]\n",
      " [ 0.15328629  1.        ]\n",
      " [-0.56873511  1.        ]\n",
      " [-0.19053342  1.        ]\n",
      " [-1.01570073  1.        ]\n",
      " [-1.87525001  1.        ]\n",
      " [-1.56581227  1.        ]\n",
      " [ 0.94407163  1.        ]\n",
      " [ 1.32227331  1.        ]\n",
      " [ 0.35957812  1.        ]\n",
      " [-0.46558919  1.        ]\n",
      " [-0.44839821  1.        ]\n",
      " [-0.96412778  1.        ]\n",
      " [-0.44839821  1.        ]\n",
      " [ 2.0442947   1.        ]\n",
      " [ 0.17047727  1.        ]\n",
      " [-0.56873511  1.        ]\n",
      " [ 0.53148797  1.        ]\n",
      " [-0.19053342  1.        ]\n",
      " [-0.84379088  1.        ]\n",
      " [ 1.15036345  1.        ]\n",
      " [-0.15615145  1.        ]\n",
      " [ 0.84092571  1.        ]\n",
      " [-0.96412778  1.        ]\n",
      " [ 1.47699218  1.        ]\n",
      " [ 2.2849685   1.        ]\n",
      " [ 1.25350937  1.        ]\n",
      " [ 0.35957812  1.        ]\n",
      " [ 1.32227331  1.        ]\n",
      " [-0.99850975  1.        ]\n",
      " [-0.94693679  1.        ]\n",
      " [ 0.17047727  1.        ]\n",
      " [-1.22199256  1.        ]\n",
      " [-0.80940891  1.        ]\n",
      " [-1.5314303   1.        ]\n",
      " [-1.70334016  1.        ]\n",
      " [ 0.63463388  1.        ]\n",
      " [-0.55154412  1.        ]\n",
      " [-3.078619    1.        ]\n",
      " [-1.20480157  1.        ]\n",
      " [-0.94693679  1.        ]\n",
      " [ 0.1360953   1.        ]]\n"
     ]
    }
   ],
   "source": [
    "print(X_val_augmented)"
   ]
  },
  {
   "cell_type": "markdown",
   "id": "e0de8a2e",
   "metadata": {},
   "source": [
    "### Q2\n",
    "``` Report cross entropy loss for a random prediction of Y_val and for predictions from LR.predict(X_val) (5 pts)```"
   ]
  },
  {
   "cell_type": "code",
   "execution_count": 139,
   "id": "fa2daec4",
   "metadata": {},
   "outputs": [],
   "source": [
    "def sigmoid(x):\n",
    "    return 1/(1+np.exp(-x))"
   ]
  },
  {
   "cell_type": "code",
   "execution_count": 140,
   "id": "bd269f2d",
   "metadata": {},
   "outputs": [],
   "source": [
    "def compute_cross_entropy_loss(X, y, theta):\n",
    "    m = X.shape[0]\n",
    "    h = sigmoid(X @ theta)\n",
    "    epsilon = 1e-5\n",
    "    cost = (1/m)*(((-y).T @ np.log(h + epsilon))-((1-y).T @ np.log(1-h + epsilon)))\n",
    "    return cost\n",
    "\n",
    "def predict(X, params):\n",
    "    return np.round(sigmoid(X @ params))\n"
   ]
  },
  {
   "cell_type": "code",
   "execution_count": 141,
   "id": "f6e13a2e",
   "metadata": {},
   "outputs": [],
   "source": [
    "def init(X,zeros=False):\n",
    "    n = X.shape[1]\n",
    "    if zeros:\n",
    "        theta = np.zeros((n,1))\n",
    "    else:\n",
    "        theta = np.random.rand(n,1)-0.5\n",
    "        theta[-1] = 0\n",
    "    return theta"
   ]
  },
  {
   "cell_type": "code",
   "execution_count": 142,
   "id": "05c2be80",
   "metadata": {},
   "outputs": [],
   "source": [
    "# This is batch gradient descent that updates using all training samples\n",
    "def update_weights( X, Y,  theta ) :\n",
    "             \n",
    "        #Y_pred = predict(X, theta)  \n",
    "        # calculate gradients  \n",
    "        m = X.shape[0]\n",
    "        dtheta = - ( 2 * ( X.T ).dot( Y - sigmoid(np.matmul(X,theta)) )  ) / m\n",
    "        cost_history = compute_cross_entropy_loss(X, Y, theta)  \n",
    "        return dtheta,cost_history"
   ]
  },
  {
   "cell_type": "code",
   "execution_count": 143,
   "id": "40caefe8",
   "metadata": {},
   "outputs": [
    {
     "name": "stdout",
     "output_type": "stream",
     "text": [
      "[6.4760162] [[0.69312718]]\n",
      "[False False  True  True  True False  True  True  True False  True  True\n",
      " False False False False False False False  True  True False  True False\n",
      " False  True False  True  True False  True False  True  True False  True\n",
      " False False  True  True False False False False False  True  True  True\n",
      " False False False False  True  True False  True False False  True False\n",
      "  True False  True  True  True  True  True False False  True False False\n",
      " False False  True False False False False False] [[0.]\n",
      " [0.]\n",
      " [0.]\n",
      " [0.]\n",
      " [0.]\n",
      " [0.]\n",
      " [0.]\n",
      " [0.]\n",
      " [0.]\n",
      " [0.]\n",
      " [0.]\n",
      " [0.]\n",
      " [0.]\n",
      " [0.]\n",
      " [0.]\n",
      " [0.]\n",
      " [0.]\n",
      " [0.]\n",
      " [0.]\n",
      " [0.]\n",
      " [0.]\n",
      " [0.]\n",
      " [0.]\n",
      " [0.]\n",
      " [0.]\n",
      " [0.]\n",
      " [0.]\n",
      " [0.]\n",
      " [0.]\n",
      " [0.]\n",
      " [0.]\n",
      " [0.]\n",
      " [0.]\n",
      " [0.]\n",
      " [0.]\n",
      " [0.]\n",
      " [0.]\n",
      " [0.]\n",
      " [0.]\n",
      " [0.]\n",
      " [0.]\n",
      " [0.]\n",
      " [0.]\n",
      " [0.]\n",
      " [0.]\n",
      " [0.]\n",
      " [0.]\n",
      " [0.]\n",
      " [0.]\n",
      " [0.]\n",
      " [0.]\n",
      " [0.]\n",
      " [0.]\n",
      " [0.]\n",
      " [0.]\n",
      " [0.]\n",
      " [0.]\n",
      " [0.]\n",
      " [0.]\n",
      " [0.]\n",
      " [0.]\n",
      " [0.]\n",
      " [0.]\n",
      " [0.]\n",
      " [0.]\n",
      " [0.]\n",
      " [0.]\n",
      " [0.]\n",
      " [0.]\n",
      " [0.]\n",
      " [0.]\n",
      " [0.]\n",
      " [0.]\n",
      " [0.]\n",
      " [0.]\n",
      " [0.]\n",
      " [0.]\n",
      " [0.]\n",
      " [0.]\n",
      " [0.]]\n",
      "[[0.]]\n"
     ]
    }
   ],
   "source": [
    "LR = LogisticRegression()\n",
    "LR.fit(X_train, Y_train)\n",
    "\n",
    "# predict using LR\n",
    "Y_val_pred_LR = LR.predict(X_val)\n",
    "\n",
    "# compute cross entropy loss for random prediction\n",
    "theta_random = init(X_val)\n",
    "Y_val_pred_random = predict(X_val, theta_random)\n",
    "ce_loss_random = compute_cross_entropy_loss(X_val, Y_val_pred_random, theta_random)\n",
    "\n",
    "# compute cross entropy loss for LR prediction\n",
    "ce_loss_LR = compute_cross_entropy_loss(X_val, Y_val_pred_LR.astype(int), LR.coef_.T)\n",
    "\n",
    "print(ce_loss_LR, ce_loss_random)\n",
    "print(Y_val_pred_LR, Y_val_pred_random)\n",
    "print(theta_random)"
   ]
  },
  {
   "cell_type": "markdown",
   "id": "f0b6e3c5",
   "metadata": {},
   "source": [
    "### Q3 \n",
    "``` Implement an iterative method that at each iterations selects a random theta and if this theta improves cross_entropy_loss keeps the theta, else discards the theta. plot the cross_entropy loss history (over iterations for X_val) with this method. (10 pts)```\n",
    "### Bonus\n",
    "``` Implement an iterative method that at each iterations gets a random *dtheta* and if  theta+learning_rate*dtheta improves cross_entropy_loss it updates  theta with dtheta, else discards dtheta. plot the cross_entropy loss history (over iterations for X_val) with this method. (10 pts)```"
   ]
  },
  {
   "cell_type": "code",
   "execution_count": 144,
   "id": "534d4f5e",
   "metadata": {},
   "outputs": [
    {
     "data": {
      "image/png": "[encoded data removed]",
      "text/plain": [
       "<Figure size 640x480 with 1 Axes>"
      ]
     },
     "metadata": {},
     "output_type": "display_data"
    },
    {
     "name": "stdout",
     "output_type": "stream",
     "text": [
      "[[0.499876]\n",
      " [0.      ]]\n"
     ]
    }
   ],
   "source": [
    "# define the number of iterations\n",
    "num_iter = 1000\n",
    "\n",
    "# initialize variables\n",
    "best_theta = init(X_train_augmented)\n",
    "best_loss = compute_cross_entropy_loss(X_train_augmented, Y_train.astype(int), best_theta)\n",
    "loss_history = [best_loss]\n",
    "# iterate over the number of iterations\n",
    "for i in range(num_iter):\n",
    "    # generate a random theta\n",
    "    random_theta = init(X_train_augmented)\n",
    "    # update the weights using the random theta\n",
    "    dtheta, current_loss = update_weights(X_train_augmented, Y_train.astype(int), random_theta)\n",
    "    # if the current loss is lower than the best loss, update the best loss and theta\n",
    "    if current_loss < best_loss:\n",
    "        best_theta = random_theta\n",
    "        best_loss = current_loss\n",
    "\n",
    "    # append the current loss to the loss history\n",
    "    loss_history.append(best_loss)\n",
    "\n",
    "# plot the loss history\n",
    "plt.plot(loss_history)\n",
    "plt.xlabel('Iteration')\n",
    "plt.ylabel('Cross Entropy Loss')\n",
    "plt.title('Loss History')\n",
    "plt.show()\n",
    "\n",
    "print(best_theta)"
   ]
  },
  {
   "cell_type": "markdown",
   "id": "6d3c90e2",
   "metadata": {},
   "source": [
    "### Q4\n",
    "\n",
    "``` From Lab1 get the gradient descent  -- update over entire training sample, update over a  sample, update over a batch of sample -- that worked best for you. Also play with learning rate to get to the best cross_entropy_loss.  plot the cross_entropy loss history (over iterations for X_val) with this method. (20 pts)```"
   ]
  },
  {
   "cell_type": "raw",
   "id": "a7e1d087",
   "metadata": {},
   "source": [
    "There is an alternate to cross_entropy_loss for binary classification. It is known as hinge loss"
   ]
  },
  {
   "cell_type": "code",
   "execution_count": 145,
   "id": "6fa84135",
   "metadata": {},
   "outputs": [],
   "source": [
    "def stochastic_gradient_descent(X, Y, learning_rate, num_iterations):\n",
    "    m = X.shape[0]\n",
    "    n = X.shape[1]\n",
    "    theta = np.zeros((n, 1))\n",
    "    loss_history = []\n",
    "    \n",
    "    for i in range(num_iterations):\n",
    "        for j in range(m):\n",
    "            rand_index = np.random.randint(0,m)\n",
    "            x_i = X[rand_index,:].reshape(1,n)\n",
    "            y_i = Y[rand_index].reshape(1,1)\n",
    "            prediction = sigmoid(np.dot(x_i, theta))\n",
    "            gradient = x_i.T.dot((prediction - y_i))\n",
    "            theta -= learning_rate * gradient\n",
    "        loss_history.append(compute_cross_entropy_loss(X,Y.reshape(-1),theta).item())\n",
    "    \n",
    "    return theta, loss_history"
   ]
  },
  {
   "cell_type": "code",
   "execution_count": 146,
   "id": "3a11d35f",
   "metadata": {},
   "outputs": [
    {
     "name": "stdout",
     "output_type": "stream",
     "text": [
      "(240, 2)\n"
     ]
    }
   ],
   "source": [
    "print(X_train_augmented.shape)"
   ]
  },
  {
   "cell_type": "code",
   "execution_count": 147,
   "id": "cf308636",
   "metadata": {},
   "outputs": [
    {
     "name": "stdout",
     "output_type": "stream",
     "text": [
      "[[ 3.32582786]\n",
      " [-0.41956932]]\n",
      "0.3156686889600174\n"
     ]
    },
    {
     "data": {
      "image/png": "[encoded data removed]",
      "text/plain": [
       "<Figure size 640x480 with 1 Axes>"
      ]
     },
     "metadata": {},
     "output_type": "display_data"
    }
   ],
   "source": [
    "lr = 0.001\n",
    "iter = 1000\n",
    "theta, sgd_loss = stochastic_gradient_descent(X_train_augmented, Y_train.astype(int),lr,iter)\n",
    "\n",
    "\n",
    "print(theta)\n",
    "\n",
    "print(sgd_loss[len(sgd_loss)-1])\n",
    "\n",
    "plt.plot(sgd_loss)\n",
    "plt.xlabel('Iteration')\n",
    "plt.ylabel('Cross Entropy Loss')\n",
    "plt.title('Loss History')\n",
    "plt.show()"
   ]
  },
  {
   "cell_type": "markdown",
   "id": "d037e9fa",
   "metadata": {},
   "source": [
    "$l(x_i) =  max(0,1-y_i\\theta x_i)$ ```with the assumption that y_i = {+1, -1}```\n",
    "\n",
    "``` if y_i and \\theta x_i have same sign and |\\theta x_i| is larger than one, loss will be zero. That is prediction matches label and prediction has magnitude greater than one there is no loss. If prediction and label have opposite sign, loss will be greater than zero -- incorrect prediction there is a loss. There is also a loss if magnitude of prediction is less than zero even if they have the same sign. Hinge loss wants correct and incorrect classification to have a margin of atleast one. ```"
   ]
  },
  {
   "cell_type": "markdown",
   "id": "6b24ffbf",
   "metadata": {},
   "source": [
    "### Q5\n",
    "``` Implement Hinge loss and use random search method in Q3 to reduce loss and find a better theta. plto the hinge loss history (over iterations for X_val) with this method. (10 pts)\n",
    "```\n",
    "### Bonus\n",
    "```\n",
    "Implement SGD update rule for hinge loss by first find derivative of hinge loss over theta. Use SGD to optimize hinge loss. plot the hinge loss history (over iterations for X_val) with this method. \n",
    "```"
   ]
  },
  {
   "cell_type": "code",
   "execution_count": 148,
   "id": "ecc3e723",
   "metadata": {},
   "outputs": [],
   "source": [
    "def compute_hinge_loss(X, y, theta):\n",
    "    m = X.shape[0]\n",
    "    h = X @ theta\n",
    "    loss = np.maximum(1 - y * h, 0)\n",
    "    cost = np.sum(loss) / m\n",
    "    return cost"
   ]
  },
  {
   "cell_type": "code",
   "execution_count": 149,
   "id": "927f7784",
   "metadata": {},
   "outputs": [],
   "source": [
    "def hinge_update_weights(X, Y, theta ) :\n",
    "             \n",
    "        #Y_pred = predict(X, theta)  \n",
    "        # calculate gradients  \n",
    "        m = X.shape[0]\n",
    "        dtheta = - ( 2 * ( X.T ).dot( Y - sigmoid(np.matmul(X,theta)) )  ) / m\n",
    "        cost_history = compute_hinge_loss(X, Y, theta)  \n",
    "        return dtheta,cost_history"
   ]
  },
  {
   "cell_type": "code",
   "execution_count": 150,
   "id": "c1ede37a",
   "metadata": {},
   "outputs": [],
   "source": [
    "def hinge_random_theta_search(X, Y, num_iterations):\n",
    "    n = X.shape[1]\n",
    "    theta = np.zeros((n, 1))\n",
    "    loss_history = []\n",
    "    best_loss_hinge = compute_hinge_loss(X, Y, theta)\n",
    "    for i in range(num_iterations):\n",
    "        new_theta = np.random.randn(n,1)\n",
    "        dtheta, new_loss = hinge_update_weights(X,Y,new_theta)\n",
    "        if new_loss < best_loss_hinge:\n",
    "            theta = new_theta\n",
    "            best_loss_hinge = new_loss\n",
    "        loss_history.append(best_loss_hinge)\n",
    "    \n",
    "    return theta, loss_history"
   ]
  },
  {
   "cell_type": "code",
   "execution_count": 151,
   "id": "639e51b9",
   "metadata": {},
   "outputs": [
    {
     "name": "stdout",
     "output_type": "stream",
     "text": [
      "[[-0.42280455]\n",
      " [ 2.62289865]]\n"
     ]
    },
    {
     "data": {
      "image/png": "[encoded data removed]",
      "text/plain": [
       "<Figure size 640x480 with 1 Axes>"
      ]
     },
     "metadata": {},
     "output_type": "display_data"
    }
   ],
   "source": [
    "num_iter = 1000\n",
    "\n",
    "hinge_theta, hinge_loss = hinge_random_theta_search(X_train_augmented, Y_train.astype(int), num_iter)\n",
    "\n",
    "print(hinge_theta)\n",
    "\n",
    "plt.plot(hinge_loss)\n",
    "plt.xlabel('Iteration')\n",
    "plt.ylabel('Hinge loss')\n",
    "plt.title('Hinge loss history set')\n",
    "plt.show()"
   ]
  },
  {
   "cell_type": "markdown",
   "id": "8b5098cb",
   "metadata": {},
   "source": [
    "### Q6\n",
    "\n",
    "```  In this problem you will create your own target function f (probability in this case) and data set D to see how Logistic Regression works. For simplicity, we will take f to be a 0/1 probability so y is a deterministic function of x. Take n = 2 so you can visualize the problem, and let X = [−1, 1]×[−1, 1] with uniform probability of picking each x ∈ X . Choose a line in the plane as the boundary between f(x) = 1 (where y has to be +1) and f(x) = 0 (where y has to be −1) by taking two random, uniformly distributed points from X and taking the line passing through them as the boundary between y = ±1. Pick m = 100 training points at random from X, and evaluate the outputs y_m for each of these points x_m.```\n",
    "\n",
    "```\n",
    "Run Logistic Regression with Stochastic Gradient Descent to find g, and estimate E_out (the cross entropy error) by generating a sufficiently large, separate set of points to evaluate the error. Repeat the experiment for 100 runs with different targets and take the average. Initialize the weight vector of Logistic Regression to all zeros in each run. Stop the algorithm when ∥w(t−1) − w(t)∥ < 0.01, where w(t) denotes the weight vector at the end of epoch t. An epoch is a full pass through the N data points (use a random permutation of 1, 2, · · · , N to present the data points to the algorithm within each epoch, and use different permutations for different epochs). Use a learning rate of 0.01.\n",
    "```"
   ]
  },
  {
   "cell_type": "code",
   "execution_count": 152,
   "id": "c0437942",
   "metadata": {},
   "outputs": [
    {
     "name": "stdout",
     "output_type": "stream",
     "text": [
      "Average accuracy: 0.6319999999999999\n",
      "Average loss: 0.45069503259195737\n"
     ]
    }
   ],
   "source": [
    "def generate_data(n, m):\n",
    "    X = np.random.uniform(-1, 1, (m, n))\n",
    "    y = np.zeros(m)\n",
    "    index = np.random.choice(m, 2, replace=False)\n",
    "    x1, x2 = X[index]\n",
    "    slope = (x2[1] - x1[1]) / (x2[0] - x1[0])\n",
    "    intercept = x1[1] - slope * x1[0]\n",
    "    for i in range(m):\n",
    "        if X[i, 1] > slope * X[i, 0] + intercept:\n",
    "            y[i] = 1\n",
    "        else:\n",
    "            y[i] = -1\n",
    "    return X, y\n",
    "\n",
    "def logistic_regression(X, y, lr=0.01, epochs=1000):\n",
    "    m, n = X.shape\n",
    "    w = np.zeros(n)\n",
    "    for epoch in range(epochs):\n",
    "        idx = np.random.choice(m, 1)[0]\n",
    "        x_i, y_i = X[idx], y[idx]\n",
    "        z = np.dot(x_i, w)\n",
    "        y_pred = sigmoid(z)\n",
    "        gradient = (y_pred - y_i) * x_i\n",
    "        w -= lr * gradient\n",
    "    return w\n",
    "\n",
    "def evaluate(X, y, w):\n",
    "    y_pred = sigmoid(np.dot(X, w))\n",
    "    y_pred[y_pred >= 0.5] = 1\n",
    "    y_pred[y_pred < 0.5] = -1\n",
    "    accuracy = np.mean(y_pred == y)\n",
    "    loss = compute_cross_entropy_loss(X, y, w)\n",
    "    return accuracy, loss\n",
    "\n",
    "\n",
    "n = 2\n",
    "m = 100\n",
    "num_trials = 100\n",
    "avg_accuracy = 0\n",
    "avg_loss = 0\n",
    "for i in range(num_trials):\n",
    "    X_train, y_train = generate_data(n, m)\n",
    "    X_test, y_test = generate_data(n, m)\n",
    "    w = logistic_regression(X_train, y_train)\n",
    "    accuracy, loss = evaluate(X_test, y_test, w)\n",
    "    avg_accuracy += accuracy\n",
    "    avg_loss += loss\n",
    "avg_accuracy /= num_trials\n",
    "avg_loss /= num_trials\n",
    "print('Average accuracy:', avg_accuracy)\n",
    "print('Average loss:', avg_loss)\n"
   ]
  },
  {
   "cell_type": "code",
   "execution_count": null,
   "id": "36bcecdd",
   "metadata": {},
   "outputs": [],
   "source": []
  }
 ],
 "metadata": {
  "kernelspec": {
   "display_name": "Python 3 (ipykernel)",
   "language": "python",
   "name": "python3"
  },
  "language_info": {
   "codemirror_mode": {
    "name": "ipython",
    "version": 3
   },
   "file_extension": ".py",
   "mimetype": "text/x-python",
   "name": "python",
   "nbconvert_exporter": "python",
   "pygments_lexer": "ipython3",
   "version": "3.11.2"
  }
 },
 "nbformat": 4,
 "nbformat_minor": 5
}
